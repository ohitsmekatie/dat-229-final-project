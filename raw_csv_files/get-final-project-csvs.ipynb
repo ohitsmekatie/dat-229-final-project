{
 "cells": [
  {
   "cell_type": "code",
   "execution_count": 11,
   "metadata": {},
   "outputs": [],
   "source": [
    "# Requirements \n",
    "# 20% for proper, normalized database design on topic of your choosing, with at least one parent/breakout table\n",
    "# 10% adequate starting data - at least 20 records, created either as insert statements in your script, or loaded from csv\n",
    "# 10% python menuing \n",
    "# 20% python DB connectivity and basic select and display of all records using join for breakout table(s)\n",
    "# 20% (10% each) for at least 2 aggregate queries, grouped/sorted/filtered in a way meaningful to your data\n",
    "# 15% charting implementation\n",
    "# 5% ERD"
   ]
  },
  {
   "cell_type": "code",
   "execution_count": 2,
   "metadata": {},
   "outputs": [],
   "source": [
    "import json, requests, sys\n",
    "import pandas as pd \n",
    "import csv\n",
    "from csv import reader\n",
    "\n",
    "\n",
    "BASE_URL = \"https://swapi.dev/api/\"\n",
    "\n",
    "response = requests.get(\"http://swapi.dev/api/planets/\")\n",
    "response = requests.get(\"http://swapi.dev/api/species/\")\n",
    "response = requests.get(\"http://swapi.dev/api/people/\")\n",
    "response = requests.get(\"http://swapi.dev/api/films/\")\n",
    "response = requests.get(\"http://swapi.dev/api/starships/\")\n",
    "\n",
    "response = requests.get(BASE_URL)\n",
    "payload = json.loads(response.text)\n",
    "\n",
    "species_url = payload[\"species\"]\n",
    "planet_url = payload[\"planets\"]\n",
    "people_url = payload[\"people\"]\n",
    "film_url = payload[\"films\"]\n",
    "starship_url = payload[\"starships\"]\n",
    "\n",
    "species_response = requests.get(species_url)\n",
    "planet_response = requests.get(planet_url)\n",
    "people_response = requests.get(people_url)\n",
    "film_response = requests.get(film_url)\n",
    "starship_response = requests.get(starship_url)\n",
    "\n",
    "# json payload of all the text from api request\n",
    "species_payload = json.loads(species_response.text)\n",
    "planet_payload = json.loads(planet_response.text)\n",
    "people_payload = json.loads(people_response.text)\n",
    "film_payload = json.loads(film_response.text)\n",
    "starship_payload = json.loads(starship_response.text)\n",
    "\n",
    "# gets all the results in case I want to use the whole sets at a later time \n",
    "species_dataset = pd.DataFrame(species_payload[\"results\"])\n",
    "planet_dataset = pd.DataFrame(planet_payload[\"results\"])\n",
    "people_dataset = pd.DataFrame(people_payload[\"results\"])\n",
    "film_dataset = pd.DataFrame(film_payload[\"results\"])\n",
    "starship_dataset = pd.DataFrame(starship_payload[\"results\"])\n",
    "\n",
    "# slicing up the CSVs to have only the columns i want \n",
    "starship_condensed = starship_dataset.loc[:, 'name':'length']\n",
    "film_condensed = film_dataset.loc[:, 'title':'release_date']\n",
    "species_condensed = species_dataset.loc[:, 'name':'average_lifespan']\n",
    "planet_condensed = planet_dataset.loc[:, 'name':'population']\n",
    "people_condensed = people_dataset.loc[:, 'name':'gender']\n",
    "\n",
    "\n",
    "planet_condensed.to_csv(\"starwars_planets.csv\")\n",
    "species_condensed.to_csv(\"starwars_species.csv\")\n",
    "people_condensed.to_csv(\"starwars_people.csv\")\n",
    "film_condensed.to_csv(\"starwars_films.csv\")\n",
    "starship_condensed.to_csv(\"starwars_starships.csv\")\n"
   ]
  },
  {
   "cell_type": "code",
   "execution_count": null,
   "metadata": {},
   "outputs": [],
   "source": []
  },
  {
   "cell_type": "code",
   "execution_count": null,
   "metadata": {},
   "outputs": [],
   "source": [
    "\n"
   ]
  },
  {
   "cell_type": "code",
   "execution_count": null,
   "metadata": {},
   "outputs": [],
   "source": []
  },
  {
   "cell_type": "code",
   "execution_count": null,
   "metadata": {},
   "outputs": [],
   "source": []
  }
 ],
 "metadata": {
  "kernelspec": {
   "display_name": "Python 3",
   "language": "python",
   "name": "python3"
  },
  "language_info": {
   "codemirror_mode": {
    "name": "ipython",
    "version": 3
   },
   "file_extension": ".py",
   "mimetype": "text/x-python",
   "name": "python",
   "nbconvert_exporter": "python",
   "pygments_lexer": "ipython3",
   "version": "3.8.3"
  }
 },
 "nbformat": 4,
 "nbformat_minor": 4
}
